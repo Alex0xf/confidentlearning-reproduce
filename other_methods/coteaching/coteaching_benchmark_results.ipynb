{
 "cells": [
  {
   "cell_type": "markdown",
   "metadata": {},
   "source": [
    "## Use this to read in the scores for co-teaching. take the max score of both models for the fairest comparison."
   ]
  },
  {
   "cell_type": "code",
   "execution_count": 1,
   "metadata": {},
   "outputs": [],
   "source": [
    "import os\n",
    "import numpy as np"
   ]
  },
  {
   "cell_type": "code",
   "execution_count": 2,
   "metadata": {},
   "outputs": [],
   "source": [
    "def read_last_line(filename):\n",
    "    with open(filename, 'rb') as f:\n",
    "        f.seek(-2, os.SEEK_END)\n",
    "        while f.read(1) != b'\\n':\n",
    "            f.seek(-2, os.SEEK_CUR) \n",
    "        last_line = f.readline().decode()\n",
    "    return last_line"
   ]
  },
  {
   "cell_type": "code",
   "execution_count": 4,
   "metadata": {},
   "outputs": [
    {
     "name": "stdout",
     "output_type": "stream",
     "text": [
      "0_4: 62.9307\n",
      "2_2: 81.3101\n",
      "6_2: 80.639\n",
      "0_2: 81.1599\n",
      "2_4: 61.5585\n",
      "4_4: 60.9075\n",
      "2_6: 30.2183\n",
      "4_6: 27.6943\n",
      "4_2: 81.4403\n",
      "0_6: 30.4688\n",
      "6_4: 58.143\n",
      "6_6: 25.9916\n"
     ]
    }
   ],
   "source": [
    "basedir = '/home/cgn/coteaching_results/'\n",
    "for f in [f for f in os.listdir(basedir) if '_' in f]:\n",
    "    print(f, end=': ')\n",
    "    result = read_last_line(basedir + f +\"/out_{}.log\".format(f))\n",
    "    model1_score = float(result.split('Model1')[-1][:8])\n",
    "    model2_score = float(result.split('Model2')[-1][:8])\n",
    "    score = max(model1_score, model2_score)\n",
    "    print(score)"
   ]
  },
  {
   "cell_type": "code",
   "execution_count": null,
   "metadata": {},
   "outputs": [],
   "source": []
  }
 ],
 "metadata": {
  "kernelspec": {
   "display_name": "Python 3",
   "language": "python",
   "name": "python3"
  },
  "language_info": {
   "codemirror_mode": {
    "name": "ipython",
    "version": 3
   },
   "file_extension": ".py",
   "mimetype": "text/x-python",
   "name": "python",
   "nbconvert_exporter": "python",
   "pygments_lexer": "ipython3",
   "version": "3.7.3"
  }
 },
 "nbformat": 4,
 "nbformat_minor": 4
}
