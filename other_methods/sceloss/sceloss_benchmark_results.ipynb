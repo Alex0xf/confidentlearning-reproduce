{
 "cells": [
  {
   "cell_type": "markdown",
   "metadata": {},
   "source": [
    "## Use this to read in the scores for SCELoss. take the max score of both models for the fairest comparison."
   ]
  },
  {
   "cell_type": "code",
   "execution_count": 1,
   "metadata": {},
   "outputs": [],
   "source": [
    "import os\n",
    "import numpy as np"
   ]
  },
  {
   "cell_type": "code",
   "execution_count": 3,
   "metadata": {},
   "outputs": [],
   "source": [
    "def get_scores(filename):\n",
    "    with open(filename, 'r') as f:\n",
    "        results = f.readlines()[-6:-2]\n",
    "    acc1 = float(results[0].split(\"\\t\")[-1].strip())\n",
    "    acc1best = float(results[1].split(\"\\t\")[-1].strip())\n",
    "    acc5 = float(results[2].split(\"\\t\")[-1].strip())\n",
    "    acc5best = float(results[3].split(\"\\t\")[-1].strip())\n",
    "    return {\n",
    "        'acc1': acc1,\n",
    "        'acc1best': acc1best,\n",
    "        'acc5': acc5,\n",
    "        'acc5best': acc5best,\n",
    "    }"
   ]
  },
  {
   "cell_type": "code",
   "execution_count": 4,
   "metadata": {},
   "outputs": [
    {
     "name": "stdout",
     "output_type": "stream",
     "text": [
      "0_4: 0.7633\n",
      "2_2: 0.8753\n",
      "6_2: 0.8435\n",
      "0_2: 0.8718\n",
      "2_4: 0.741\n",
      "4_4: 0.6488\n",
      "2_6: 0.2866\n",
      "4_6: 0.3086\n",
      "4_2: 0.8878\n",
      "0_6: 0.3304\n",
      "6_4: 0.5827\n",
      "6_6: 0.2402\n"
     ]
    }
   ],
   "source": [
    "basedir = '/home/cgn/sceloss_results/'\n",
    "for f in [f for f in os.listdir(basedir) if '_' in f]:\n",
    "    print(f, end=': ')\n",
    "    result = get_scores(basedir + f +\"/out_{}.log\".format(f))\n",
    "    print(result['acc1'])\n",
    "#     model1_score = float(result.split('Model1')[-1][:8])\n",
    "#     model2_score = float(result.split('Model2')[-1][:8])\n",
    "#     score = max(model1_score, model2_score)\n",
    "#     print(score)"
   ]
  },
  {
   "cell_type": "code",
   "execution_count": 22,
   "metadata": {},
   "outputs": [
    {
     "name": "stdout",
     "output_type": "stream",
     "text": [
      "0_4: 0.7695\n",
      "2_2: 0.8811\n",
      "6_2: 0.8435\n",
      "0_2: 0.8741\n",
      "2_4: 0.7415\n",
      "4_4: 0.6571\n",
      "2_6: 0.2969\n",
      "4_6: 0.3044\n",
      "4_2: 0.8895\n",
      "0_6: 0.3317\n",
      "6_4: 0.5823\n",
      "6_6: 0.2443\n"
     ]
    }
   ],
   "source": [
    "basedir = '/home/cgn/sceloss_results/'\n",
    "for f in [f for f in os.listdir(basedir) if '_' in f]:\n",
    "    print(f, end=': ')\n",
    "    result = get_scores(basedir + f +\"/out_{}.log\".format(f))\n",
    "    print(result['acc1'])\n",
    "#     model1_score = float(result.split('Model1')[-1][:8])\n",
    "#     model2_score = float(result.split('Model2')[-1][:8])\n",
    "#     score = max(model1_score, model2_score)\n",
    "#     print(score)"
   ]
  },
  {
   "cell_type": "code",
   "execution_count": null,
   "metadata": {},
   "outputs": [],
   "source": []
  }
 ],
 "metadata": {
  "kernelspec": {
   "display_name": "Python 3",
   "language": "python",
   "name": "python3"
  },
  "language_info": {
   "codemirror_mode": {
    "name": "ipython",
    "version": 3
   },
   "file_extension": ".py",
   "mimetype": "text/x-python",
   "name": "python",
   "nbconvert_exporter": "python",
   "pygments_lexer": "ipython3",
   "version": "3.7.3"
  }
 },
 "nbformat": 4,
 "nbformat_minor": 4
}
