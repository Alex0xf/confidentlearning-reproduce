{
 "cells": [
  {
   "cell_type": "markdown",
   "metadata": {},
   "source": [
    "## Use this to read in the scores for co-teaching+. \n",
    "## Take the max score of both models for the fairest comparison."
   ]
  },
  {
   "cell_type": "code",
   "execution_count": 1,
   "metadata": {},
   "outputs": [],
   "source": [
    "import os\n",
    "import numpy as np"
   ]
  },
  {
   "cell_type": "code",
   "execution_count": 2,
   "metadata": {},
   "outputs": [],
   "source": [
    "def read_last_line(filename):\n",
    "    with open(filename, 'rb') as f:\n",
    "        f.seek(-2, os.SEEK_END)\n",
    "        while f.read(1) != b'\\n':\n",
    "            f.seek(-2, os.SEEK_CUR) \n",
    "        last_line = f.readline().decode()\n",
    "    return last_line"
   ]
  },
  {
   "cell_type": "code",
   "execution_count": 3,
   "metadata": {},
   "outputs": [
    {
     "name": "stdout",
     "output_type": "stream",
     "text": [
      "0_4: 48.3874\n",
      "2_2: 56.1599\n",
      "6_2: 55.9696\n",
      "0_2: 55.3085\n",
      "2_4: 46.7248\n",
      "4_4: 45.3325\n",
      "2_6: 24.7196\n",
      "4_6: 22.2756\n",
      "4_2: 57.1014\n",
      "0_6: 25.8514\n",
      "6_4: 39.1727\n",
      "6_6: 21.3742\n"
     ]
    }
   ],
   "source": [
    "basedir = '/home/cgn/coteaching_plus_results/'\n",
    "for f in [f for f in os.listdir(basedir) if '_' in f]:\n",
    "    print(f, end=': ')\n",
    "    result = read_last_line(basedir + f +\"/out_{}.log\".format(f))\n",
    "    model1_score = float(result.split('Model1')[-1][:8])\n",
    "    model2_score = float(result.split('Model2')[-1][:8])\n",
    "    score = max(model1_score, model2_score)\n",
    "    print(score)"
   ]
  },
  {
   "cell_type": "code",
   "execution_count": null,
   "metadata": {},
   "outputs": [],
   "source": []
  }
 ],
 "metadata": {
  "kernelspec": {
   "display_name": "Python 3",
   "language": "python",
   "name": "python3"
  },
  "language_info": {
   "codemirror_mode": {
    "name": "ipython",
    "version": 3
   },
   "file_extension": ".py",
   "mimetype": "text/x-python",
   "name": "python",
   "nbconvert_exporter": "python",
   "pygments_lexer": "ipython3",
   "version": "3.7.3"
  }
 },
 "nbformat": 4,
 "nbformat_minor": 4
}
